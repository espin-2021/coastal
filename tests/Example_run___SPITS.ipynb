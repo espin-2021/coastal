{
 "cells": [
  {
   "cell_type": "code",
   "execution_count": null,
   "metadata": {},
   "outputs": [],
   "source": [
    "import numpy as np\n",
    "import matplotlib.pyplot as plt\n",
    "from matplotlib import path\n",
    "%matplotlib inline\n",
    "import pandas as pd\n",
    "from scipy import stats\n",
    "from scipy import signal\n",
    "from IPython.display import clear_output\n",
    "\n",
    "from pymt.models import Cem, Waves\n",
    "\n",
    "import runmodels_functions as fun\n",
    "\n",
    "cem = Cem() #define models\n",
    "waves = Waves()"
   ]
  },
  {
   "cell_type": "code",
   "execution_count": null,
   "metadata": {},
   "outputs": [],
   "source": [
    "##TRIAL TO INTODUCE MODEL AND SEE SPIT FORMATION\n",
    "\n",
    "params = {\n",
    "    \n",
    "    ## CEM \n",
    "    'grid_spacing'    : 100.,\n",
    "    'shelf_slope'     : 0.001,\n",
    "    'shoreface_depth' : 10,\n",
    "    'shoreface_slope' : 0.01,\n",
    "    'model__time_step': 0.5,\n",
    "    \n",
    "    ##WAVES\n",
    "    'sea_surface_water_wave__height' : 1.5,\n",
    "    'sea_surface_water_wave__period' : 7,\n",
    "    'sea_shoreline_wave~incoming~deepwater__ashton_et_al_approach_angle_highness_parameter': 0.7,\n",
    "    'sea_shoreline_wave~incoming~deepwater__ashton_et_al_approach_angle_asymmetry_parameter': .8\n",
    "    \n",
    "}\n",
    "domain = np.zeros([90,220])\n",
    "fun.initialize_models(params,domain,cem,waves,set_land=False)\n",
    "\n",
    "T = 1800 #years\n",
    "fun.run_model_loop(T,domain,cem,waves,update_ani_years=30)"
   ]
  }
 ],
 "metadata": {
  "kernelspec": {
   "display_name": "Python 3 (ipykernel)",
   "language": "python",
   "name": "python3"
  },
  "language_info": {
   "codemirror_mode": {
    "name": "ipython",
    "version": 3
   },
   "file_extension": ".py",
   "mimetype": "text/x-python",
   "name": "python",
   "nbconvert_exporter": "python",
   "pygments_lexer": "ipython3",
   "version": "3.7.11"
  }
 },
 "nbformat": 4,
 "nbformat_minor": 4
}
