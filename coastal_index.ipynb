{
 "cells": [
  {
   "cell_type": "markdown",
   "id": "2f1e90b9-ce3a-47a7-8d00-cfa44a35d396",
   "metadata": {},
   "source": [
    "<h1 align=\"center\">Simulating Shoreline Change using Coupled Coastsat and Coastline Evolution Model (CEM)</h1>\n",
    "\n",
    "<p style=\"text-align:center;\"><img src=\"imgs/spit.jpg\" alt=\"spit\" width=\"500\"/></p>\n",
    "\n",
    "<h3 align=\"center\"> Coastal Group, ESPIn 2021</h3>\n",
    "<p style=\"text-align:center;\">Created by Ahmed Elghandour, Benton Franklin, Conner Lester, Megan Gillen, Meredith Leung, & Samuel Zapp; 6-14-21 </p>\n",
    "    \n",
    "<br>    Sandy shorelines are areas of dynamic geomorphic change, evolving on timescales ranging from hours to centuries. As part of the CSDMS ESPIn workshop, this educational lab was designed to allow users to observe firsthand the long-term change of a sandy coast of their choosing and explore the processes driving that change.\n",
    "\n",
    "<br>    The CEM was developed by Ashton et al. (2001) as an exploratory model that uses wave climate characteristics to model the evolution of an idealized coastline. In this educational lab, we couple CoastSat (a python tool that extracts shoreline geometry from satellite imagery (Vos et al., 2019)) to the CEM by initializing the model with observed shorelines from anywhere in the world. The CEM is then further driven by an average wave climate derived from local buoy data. This allows users to visualize the evolution of any sandy beach in the world through time. Through an introductory-level coding exercise, users will learn how to extract complex datasets, run a geomorphic model, and explore the impact of different wave climates on a beach they care about.\n",
    "\n",
    "    \n",
    "    \n",
    "<br>Last Updated: 10-14-21"
   ]
  },
  {
   "cell_type": "markdown",
   "id": "8dc7c889-ee33-4c21-b125-94ae94d8a6fb",
   "metadata": {},
   "source": [
    "# Start here:\n",
    "\n",
    "#### The educational lab is split into 2 notebooks. One that extracts historical data, and one that uses that data as input in the CEM.\n",
    "\n",
    "## 1. [Extract Shoreline & Wave Data](Prepare_bathymetry_wave_inputs.ipynb)\n",
    "\n",
    "\n",
    "## 2. [Use the CEM](cem_waves_notebook.ipynb)"
   ]
  },
  {
   "cell_type": "code",
   "execution_count": null,
   "id": "9ef63f1c",
   "metadata": {},
   "outputs": [],
   "source": []
  }
 ],
 "metadata": {
  "kernelspec": {
   "display_name": "Python 3 (ipykernel)",
   "language": "python",
   "name": "python3"
  },
  "language_info": {
   "codemirror_mode": {
    "name": "ipython",
    "version": 3
   },
   "file_extension": ".py",
   "mimetype": "text/x-python",
   "name": "python",
   "nbconvert_exporter": "python",
   "pygments_lexer": "ipython3",
   "version": "3.7.11"
  }
 },
 "nbformat": 4,
 "nbformat_minor": 5
}
