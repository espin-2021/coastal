{
 "cells": [
  {
   "cell_type": "markdown",
   "id": "2f1e90b9-ce3a-47a7-8d00-cfa44a35d396",
   "metadata": {},
   "source": [
    "<h1 align=\"center\">Coupling CoastSAT Extracted Shoreline Data with CEM Simulations</h1>\n",
    "\n",
    "<p style=\"text-align:center;\"><img src=\"Presque_Ilse_State_Park_9_10_2020.png\" alt=\"Presque Ilse State Park\" width=\"500\"/></p>\n",
    "\n",
    "<h3 align=\"center\"> Coastal Group, ESPIn 2021 Group Project</h3>\n",
    "<p style=\"text-align:center;\">Created by Ahmed Elghandour, Benton Franklin, Conner Lester, Megan Gillen, Meredith Leung, & Samuel Zapp; 6-14-21\n",
    "<br>Last Updated: 6-16-21</p>"
   ]
  },
  {
   "cell_type": "markdown",
   "id": "8dc7c889-ee33-4c21-b125-94ae94d8a6fb",
   "metadata": {},
   "source": [
    "## ***Notebooks:***\n",
    "1. [CoastSat & Wave Data](Prepare_bathymetry_wave_inputs.ipynb)\n",
    "2. [CEM](cem_waves_notebook.ipynb)"
   ]
  },
  {
   "cell_type": "markdown",
   "id": "3cb5d5a5-9de2-4a96-a5b4-9a42c446f19d",
   "metadata": {},
   "source": [
    "Since our project takes up a lot of data, we split it up into two notebooks as to allocate memory and not have dead kernels!"
   ]
  }
 ],
 "metadata": {
  "kernelspec": {
   "display_name": "Python 3",
   "language": "python",
   "name": "python3"
  },
  "language_info": {
   "codemirror_mode": {
    "name": "ipython",
    "version": 3
   },
   "file_extension": ".py",
   "mimetype": "text/x-python",
   "name": "python",
   "nbconvert_exporter": "python",
   "pygments_lexer": "ipython3",
   "version": "3.9.4"
  }
 },
 "nbformat": 4,
 "nbformat_minor": 5
}
