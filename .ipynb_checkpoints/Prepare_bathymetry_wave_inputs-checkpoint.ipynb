{
 "cells": [
  {
   "cell_type": "markdown",
   "id": "b307fce4",
   "metadata": {},
   "source": [
    "# Simulating Shoreline Change using Coupled Coastsat and Coastline Evolution Model (CEM)\n",
    "\n",
    "#### In this lab users will extract a satellite derived shoreline in a location of their choosing. They will then evolve this shoreline using the Coastal Evolution model. They will be able to tune wave characteristics and explore the role of dominant wave climate in producing longterm change of an area relevant to their interests. \n",
    "\n",
    "Important references:\n",
    "\n",
    "1. Ashton, A.D., Murray, B., Arnault, O. 2001. Formation of coastline features by large-scale instabilities induced by high-angle waves, Nature 414.\n",
    "2. Vos K., Splinter K.D., Harley M.D., Simmons J.A., Turner I.L. (2019). CoastSat: a Google Earth Engine-enabled Python toolkit to extract shorelines from publicly available satellite imagery. Environmental Modelling and Software. 122, 104528. https://doi.org/10.1016/j.envsoft.2019.104528 (Open Access)\n"
   ]
  },
  {
   "cell_type": "markdown",
   "id": "9b87e755",
   "metadata": {},
   "source": [
    "### Initial settings\n",
    "Refer to the Installation section of the README for instructions on how to install the Python packages necessary to run the software, including Google Earth Engine Python API. If that step has been completed correctly, the following packages should be imported without any problem.\n"
   ]
  },
  {
   "cell_type": "code",
   "execution_count": null,
   "id": "8a0b2ffc",
   "metadata": {},
   "outputs": [],
   "source": [
    "# generic\n",
    "import os\n",
    "import numpy as np\n",
    "from scipy import stats\n",
    "import matplotlib\n",
    "matplotlib.use('Qt5Agg')\n",
    "import matplotlib.pyplot as plt\n",
    "%matplotlib inline\n",
    "\n",
    "# function files\n",
    "import buoypy as bp\n",
    "import runmodels_functions as fun\n",
    "\n",
    "import warnings\n",
    "warnings.filterwarnings(\"ignore\")\n",
    "from coastsat import SDS_download, SDS_preprocess, SDS_shoreline, SDS_tools, SDS_transects"
   ]
  },
  {
   "cell_type": "markdown",
   "id": "53041273",
   "metadata": {},
   "source": [
    "# 1. Coastsat\n",
    "In this section of the notebook we extract and digitize one shoreline using Coastsat.\n",
    "\n",
    "The full version of Coastsat allows you to use this digitized shoreline as a reference for a machine learning algorithm to automatically extract shorelines from the full historical record of satellite imagery. In our case, we only need to provide the CEM with one shoreline so we stop there. "
   ]
  },
  {
   "cell_type": "markdown",
   "id": "4018e002",
   "metadata": {},
   "source": [
    "## 1.1 Retrieve images from Google Earth Engine\n",
    "Define the region of interest (*polygon*), the date range (*dates*) and the satellite missions (*sat_list*) from which you wish to retrieve the satellite images. The images will be cropped on the Google Earth Engine server and stored in the directory defined in filepath.\n",
    "\n",
    "**Make sure the area of your ROI is smaller than 100 km2 (if larger split it into smaller ROIs).**\n",
    "\n",
    "The function SDS_download.check_images_available(inputs) will print the number of images available for your inputs. The Landsat images are divided in Tier 1 and Tier 2, only Tier 1 images can be used for time-series analysis."
   ]
  },
  {
   "cell_type": "code",
   "execution_count": null,
   "id": "e3731de1",
   "metadata": {},
   "outputs": [],
   "source": [
    "# region of interest (longitude, latitude)\n",
    "polygon = [[[-80.181811, 42.175542],\n",
    "[-80.053400,  42.175938],\n",
    "[-80.055316,  42.099772],\n",
    "[-80.178013,  42.100109],\n",
    "[-80.181811, 42.175542]]]\n",
    " \n",
    "# it's recommended to convert the polygon to the smallest rectangle (sides parallel to coordinate axes)       \n",
    "polygon = SDS_tools.smallest_rectangle(polygon)\n",
    "# date range\n",
    "dates = ['1985-04-01', '1985-09-01']\n",
    "# satellite missions\n",
    "sat_list = ['L5']\n",
    "# name of the site\n",
    "sitename = 'Erie_example'\n",
    "# directory where the data will be stored\n",
    "filepath = os.path.join(os.getcwd(), 'data')\n",
    "# put all the inputs into a dictionnary\n",
    "inputs = {'polygon': polygon, 'dates': dates, 'sat_list': sat_list, 'sitename': sitename, 'filepath':filepath}\n",
    "\n",
    "# before downloading the images, check how many images are available for your inputs\n",
    "SDS_download.check_images_available(inputs);"
   ]
  },
  {
   "cell_type": "markdown",
   "id": "0fb527f9",
   "metadata": {},
   "source": [
    "**download the available images to the metadata variable. If you have already completed this step skip to the next line of code**"
   ]
  },
  {
   "cell_type": "code",
   "execution_count": null,
   "id": "3c31e2ab",
   "metadata": {},
   "outputs": [],
   "source": [
    "metadata = SDS_download.retrieve_images(inputs)"
   ]
  },
  {
   "cell_type": "markdown",
   "id": "dbc939b4",
   "metadata": {},
   "source": [
    "**If you have already retrieved the images, just load the metadata file by only running the section below**"
   ]
  },
  {
   "cell_type": "code",
   "execution_count": null,
   "id": "629df623",
   "metadata": {},
   "outputs": [],
   "source": [
    "metadata = SDS_download.get_metadata(inputs) "
   ]
  },
  {
   "cell_type": "markdown",
   "id": "ffec4b4d",
   "metadata": {},
   "source": [
    "## 1.2 Shoreline extraction\n",
    "This section maps the position of the shoreline on the satellite images. **We recommend keeping the settings as is, but you may need to change the spatial reference system in which to output the coordinates of the mapped shorelines (output_epsg).** See http://spatialreference.org/ to find the EPSG number corresponding to your local coordinate system. Make sure that your are using cartesian coordinates and not spherical coordinates (lat,lon) like WGS84. If unsure, use 3857 which is the web mercator projection (used by Google Maps).\n",
    "\n",
    "The other parameters are for advanced users only and are described in the Coastsat README."
   ]
  },
  {
   "cell_type": "code",
   "execution_count": null,
   "id": "dbc4b106",
   "metadata": {},
   "outputs": [],
   "source": [
    "settings = { \n",
    "    # general parameters:\n",
    "    'cloud_thresh': 0.5,        # threshold on maximum cloud cover\n",
    "    'output_epsg': 32617,        # epsg code of spatial reference system desired for the output   \n",
    "    # quality control:\n",
    "    'check_detection': True,    # if True, shows each shoreline detection to the user for validation\n",
    "    'adjust_detection': False,  # if True, allows user to adjust the postion of each shoreline by changing the threhold\n",
    "    'save_figure': True,        # if True, saves a figure showing the mapped shoreline for each image\n",
    "    # [ONLY FOR ADVANCED USERS] shoreline detection parameters:\n",
    "    'min_beach_area': 4500,     # minimum area (in metres^2) for an object to be labelled as a beach\n",
    "    'buffer_size': 150,         # radius (in metres) for buffer around sandy pixels considered in the shoreline detection\n",
    "    'min_length_sl': 200,       # minimum length (in metres) of shoreline perimeter to be valid\n",
    "    'cloud_mask_issue': False,  # switch this parameter to True if sand pixels are masked (in black) on many images  \n",
    "    'sand_color': 'default',    # 'default', 'dark' (for grey/black sand beaches) or 'bright' (for white sand beaches)\n",
    "    # add the inputs defined previously\n",
    "    'inputs': inputs\n",
    "}"
   ]
  },
  {
   "attachments": {},
   "cell_type": "markdown",
   "id": "bd13587d",
   "metadata": {},
   "source": [
    "### Digitize a reference shoreline\n",
    "The reference shoreline is manually digitised by the user on one of the images. This digitized shoreline will then serve as input into the CEM.\n",
    "\n",
    "Here's our example:\n",
    "<table><tr>\n",
    "<td> <img src=\"imgs/ex_pick_pts.PNG\" width=300 height=300 /> </td> \n",
    "<td> <img src=\"imgs/ex_shoreline.PNG\" width=340 height=340 /> </td> \n",
    "</tr></table>\n",
    "\n",
    "The parameter max_dist_ref defines the maximum distance from the reference shoreline (in metres) at which a valid detected shoreline can be. If you think that the default value of 100 m will not capture the full shoreline variability of your site, increase this value to an appropriate distance."
   ]
  },
  {
   "cell_type": "code",
   "execution_count": null,
   "id": "47733332",
   "metadata": {},
   "outputs": [],
   "source": [
    "%matplotlib qt\n",
    "\n",
    "settings['reference_shoreline'] = SDS_preprocess.get_reference_sl(metadata, settings)\n",
    "#print(settings['reference_shoreline'])\n",
    "np.savetxt(os.path.join(filepath, sitename, 'pt_coords.txt'),settings['reference_shoreline'])\n",
    "\n",
    "#settings['max_dist_ref'] = 1000 # max distance (in meters) allowed from the reference shoreline"
   ]
  },
  {
   "cell_type": "markdown",
   "id": "0497b37f",
   "metadata": {},
   "source": [
    "## 1.3 Convert CoastSat shoreline to grid for CEM\n"
   ]
  },
  {
   "cell_type": "markdown",
   "id": "e669c792",
   "metadata": {},
   "source": [
    "CoastSat outputs an array of [X,Y] UTM coordinates for our shoreline. CEM requires an [X,Y,Z] mesh. In the shorelinetogrid function we generate crossshore elevation for our grid using the Dean Profile equation (Dean, 1991): \n",
    "\n",
    "$h(x) = Ax^{m}$\n",
    "\n",
    "where:\n",
    "    <li>h=depth (m)</li>\n",
    "    <li>x=cross-shore distance (m)</li> \n",
    "    <li>A=shape parameter (0.05 to 0.25 based on sed. characteristics, hardcoded to be 0.1)</li>\n",
    "    <li>m = 2/3 (describes the typical concave up shape of beach slope</li>\n",
    "       \n",
    "*note that while this equation can provide a relatively accurate first cut assesment of nearshore bathymetry, it was designed for planar beaches with uniform slope (i.e., no sand bars or complicated bathymetry)*"
   ]
  },
  {
   "cell_type": "code",
   "execution_count": null,
   "id": "6d2fa370",
   "metadata": {},
   "outputs": [],
   "source": [
    "xy = np.loadtxt(os.path.join(filepath, sitename, 'pt_coords.txt'))\n",
    "# shoreline\n",
    "x=xy[:,0]\n",
    "y=xy[:,1]\n",
    "dx=100\n",
    "dy=100\n",
    "\n",
    "[xg,yg,elev] = fun.shorelinetogrid(x,y,dx,dy,plotdata=True)"
   ]
  },
  {
   "cell_type": "markdown",
   "id": "b5abdc64",
   "metadata": {},
   "source": [
    "# 2. Extract Historical Wave Data"
   ]
  },
  {
   "cell_type": "markdown",
   "id": "0dabbe40",
   "metadata": {},
   "source": [
    "This section will extract wave data from an NDBC buoy and prepare it for input into the CEM. The user must provide the buoy identifier (*station*) and a year range. Go to the NDBC website to pick an appropriate buoy (nearby and at least a few years of data):\n",
    "https://www.ndbc.noaa.gov/"
   ]
  },
  {
   "cell_type": "code",
   "execution_count": null,
   "id": "aa8ef00f",
   "metadata": {},
   "outputs": [],
   "source": [
    "# user input from NDBC buoy (make sure buoy has wave height available)\n",
    "station = 45167\n",
    "year = np.NAN\n",
    "year_range = (2014,2020)\n",
    "\n",
    "H = bp.historic_data(station,year,year_range)\n",
    "X = H.get_all_stand_meteo()\n",
    "\n",
    "# get rid of missing data\n",
    "X.mask((X==99.0) | (X==9999.0), inplace=True)\n",
    "#X.head(3) #preview first 3 lines of table\n",
    "\n",
    "# plot relevant data to check it looks ok\n",
    "%matplotlib inline\n",
    "plotdata = True\n",
    "if plotdata == True: fun.plotmeteo(X)"
   ]
  },
  {
   "cell_type": "code",
   "execution_count": null,
   "id": "07daa2cc",
   "metadata": {},
   "outputs": [],
   "source": [
    "# prep wave data for CEM\n",
    "Hs = np.mean(X.WVHT)\n",
    "Tp = np.mean(X.DPD)\n",
    "[Dir,count] = stats.mode(X.WDIR) "
   ]
  },
  {
   "cell_type": "code",
   "execution_count": null,
   "id": "656b02e9",
   "metadata": {},
   "outputs": [],
   "source": []
  }
 ],
 "metadata": {
  "kernelspec": {
   "display_name": "Python 3 (ipykernel)",
   "language": "python",
   "name": "python3"
  },
  "language_info": {
   "codemirror_mode": {
    "name": "ipython",
    "version": 3
   },
   "file_extension": ".py",
   "mimetype": "text/x-python",
   "name": "python",
   "nbconvert_exporter": "python",
   "pygments_lexer": "ipython3",
   "version": "3.7.11"
  }
 },
 "nbformat": 4,
 "nbformat_minor": 5
}
