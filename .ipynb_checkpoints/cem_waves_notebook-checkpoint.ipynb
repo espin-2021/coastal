{
 "cells": [
  {
   "cell_type": "markdown",
   "metadata": {},
   "source": [
    "# Simulating Shoreline Change using Coupled Coastsat and Coastline Evolution Model (CEM) - Part 2\n",
    "\n",
    "\n",
    "*In this lab users will extract a satellite derived shoreline in a location of their choosing. They will then evolve this shoreline using the Coastal Evolution model. They will be able to tune wave characteristics and explore the role of dominant wave climate in producing longterm change of an area relevant to their interests.*\n",
    "\n",
    "#### Part 1 of the lab extracts all historical observations and prepares them for input into the CEM\n",
    "#### **Part 2 of the lab uses the CEM to evolve the extracted shoreline - YOU ARE HERE!**\n",
    "\n",
    "Important references:\n",
    "\n",
    "1. Ashton, A.D., Murray, B., Arnault, O. (2001). [Formation of coastline features by large-scale instabilities induced by high-angle waves](https://www.nature.com/articles/35104541), Nature 414.\n",
    "2. Ashton A.D., Murray A.B. (2006) [High-Angle Wave Instability and Emergent Shoreline Shapes: 1. Wave Climate Analysis and Comparisons to Nature.](https://agupubs.onlinelibrary.wiley.com/doi/full/10.1029/2005JF000422) Journal of Geophysical Research. Volume 111. <br>\n",
    "3. Ashton A.D., Murray A.B. (2006) [High-Angle Wave Instability and Emergent Shoreline Shapes: 2. Wave Climate Analysis and Comparisons to Nature.](https://agupubs.onlinelibrary.wiley.com/doi/full/10.1029/2005JF000423) Journal of Geophysical Research. Volume 111.\n",
    "2. Vos K., Splinter K.D., Harley M.D., Simmons J.A., Turner I.L. (2019). [*CoastSat*: a Google Earth Engine-enabled Python toolkit to extract shorelines from publicly available satellite imagery. Environmental Modelling and Software.](https://doi.org/10.1016/j.envsoft.2019.104528) Vol. 122, 104528. (Open Access)\n"
   ]
  },
  {
   "cell_type": "code",
   "execution_count": null,
   "metadata": {},
   "outputs": [],
   "source": [
    "import numpy as np\n",
    "import matplotlib.pyplot as plt\n",
    "from matplotlib import path\n",
    "%matplotlib inline\n",
    "import pandas as pd\n",
    "from scipy import stats,signal\n",
    "from IPython.display import clear_output\n",
    "\n",
    "from pymt.models import Cem, Waves\n",
    "import buoypy as bp\n",
    "import runmodels_functions as fun"
   ]
  },
  {
   "cell_type": "markdown",
   "metadata": {},
   "source": [
    "### 1. Load Shoreline Data from CoastSAT & NDBC Buoy Wave Data\n",
    "\n",
    "These workflows are derived from the \"Extract Wave Data\" & \"Convert CoastSat shoreline to grid for CEM\" sections in the CoastSat & Wave Data notebook. Please see that file for more information on these processes.\n",
    "\n",
    "First, let's get our wave data:"
   ]
  },
  {
   "cell_type": "code",
   "execution_count": null,
   "metadata": {},
   "outputs": [],
   "source": [
    "#From previous nb\n",
    "Hs, Tp, Dir = 0.486, 3.156, 214."
   ]
  },
  {
   "cell_type": "markdown",
   "metadata": {},
   "source": [
    "We will be using the significant wave height (Hs), wave period (Tp), and wave direction (Dir) data from the NDBC buoy as inputs into the WAVES model. Now let's look at our shoreline:"
   ]
  },
  {
   "cell_type": "markdown",
   "metadata": {},
   "source": [
    "Load in the shoreline from the last notebook--like we did in section 1.3:"
   ]
  },
  {
   "cell_type": "code",
   "execution_count": null,
   "metadata": {},
   "outputs": [],
   "source": [
    "# gridded shoreline data\n",
    "xy = np.loadtxt('data/Erie_example/pt_coords.txt')[:,:2]\n",
    "\n",
    "x=xy[:,0]  # x-coords\n",
    "y=xy[:,1]  # y-coords\n",
    "\n",
    "## grid spacing in [meters]\n",
    "dx=100 \n",
    "dy=100\n",
    "\n",
    "## if the number of data points is large (>10 thousand), reducing the size of the data by skipping every Z steps.\n",
    "## here we are skipping every 200 data points to reduce the processing time when we regrid the shoreline\n",
    "x,y = x[::200],y[::200] "
   ]
  },
  {
   "cell_type": "markdown",
   "metadata": {},
   "source": [
    "### 1.2 Shoreline Orientation"
   ]
  },
  {
   "cell_type": "markdown",
   "metadata": {},
   "source": [
    "This step is important!\n",
    "The CEM runs with the shoreline oriented such that the open ocean is towards the top of the screen and the shoreline towards the bottom. The CEM boundaries are periodic in the east-west direction (relative to your screen), meaning that sediment and wave energy that crosses the right most boundary goes straight to the left most boundary. Because of this, it is important to try and line up the east-west shoreline edges on approximately the same latitude line/row of grid cells.\n",
    "\n",
    "\n",
    "The example below rotates the shoreline to be compatible with the CEM boundary conditions described above:"
   ]
  },
  {
   "cell_type": "code",
   "execution_count": null,
   "metadata": {},
   "outputs": [],
   "source": [
    "def rotate_shoreline(x,y,angle='auto'):\n",
    "    '''This function takes points (x,y) and rotates them by an angle\n",
    "    The angle is automatically generated by the end points of the shorelines coordinates\n",
    "    If this approach doesnt work for some reason you may input an angle maually (in degrees).'''\n",
    "    \n",
    "    if angle == 'auto':\n",
    "        sign = -1 if y[-1]>y[0] else 1\n",
    "        a = sign*np.arctan((y[-1]-y[0])/(x[-1]-x[0]))\n",
    "    else:\n",
    "        a = angle*np.pi/180\n",
    "    # using this roation matix\n",
    "    xnew = (x ) * np.cos(a) - (y ) * np.sin(a)  \n",
    "    ynew = (x ) * np.sin(a) + (y ) * np.cos(a) \n",
    "    return xnew,ynew\n",
    "\n",
    "xnew,ynew = rotate_shoreline(x,y)\n",
    "\n",
    "# check the orentation by uncommenting the line below\n",
    "#plt.plot(xnew,ynew);\n",
    "\n",
    "# if it isnt right, input an angle into the function above and rotate manually\n",
    "# if it looks good, run the cell below"
   ]
  },
  {
   "cell_type": "code",
   "execution_count": null,
   "metadata": {},
   "outputs": [],
   "source": [
    "x,y = xnew,ynew"
   ]
  },
  {
   "cell_type": "markdown",
   "metadata": {},
   "source": [
    "### 1.3 Shoreline Extension"
   ]
  },
  {
   "cell_type": "markdown",
   "metadata": {},
   "source": [
    "In order to reduce the CEM model effects of having too small of a domain, we want to extend the shoreline length by a reasonable amount. We want the shoreline features to have plenty of space to evolve. So we want our spit to not be anywhere near the edge of the domain. "
   ]
  },
  {
   "cell_type": "code",
   "execution_count": null,
   "metadata": {},
   "outputs": [],
   "source": [
    "def extend_shoreline(x,y,length):\n",
    "    '''Extend the length of the shoreline by an amount, \"length\", on each end.'''\n",
    "    XL = int(length)\n",
    "    dx=length//100\n",
    "    x = np.append(x,np.arange(x[-1],x[-1]+XL+dx,dx))\n",
    "    y = np.append(y,np.ones([abs(len(y)-len(x))])*y[-1])\n",
    "    x = np.append(np.flip(x),np.arange(x[0]-XL,x[0]-1,dx))\n",
    "    y = np.append(np.flip(y),np.ones([abs(len(y)-len(x))])*y[0])\n",
    "    return x,y\n",
    "xnew,ynew = extend_shoreline(x,y,1e4)\n",
    "\n",
    "# check the shoreline by uncommenting the lines below\n",
    "# plt.figure(figsize=(20,3));\n",
    "# plt.plot(xnew,ynew);\n",
    "\n",
    "# If it isnt right, you might want to do this manually. \n",
    "# If the shoreline is already pretty long you may ignore this step\n",
    "# If it looks good, run the cell below"
   ]
  },
  {
   "cell_type": "code",
   "execution_count": null,
   "metadata": {},
   "outputs": [],
   "source": [
    "x,y = xnew,ynew"
   ]
  },
  {
   "cell_type": "markdown",
   "metadata": {},
   "source": [
    "Now that the shoreline looks good we can create our 2D domain from it. The function below was introduced in the previous notebook.\n",
    "#### Run the cell below"
   ]
  },
  {
   "cell_type": "code",
   "execution_count": null,
   "metadata": {},
   "outputs": [],
   "source": [
    "# If the number of x,y data points is large this may take a few minutes...\n",
    "[xg,yg,elev] = fun.shorelinetogrid(x,y,dx,dy,plotdata=True);"
   ]
  },
  {
   "cell_type": "markdown",
   "metadata": {},
   "source": [
    "Looks good! Now lets clean up the domain some."
   ]
  },
  {
   "cell_type": "markdown",
   "metadata": {},
   "source": [
    "### 1.4 Domain Cleaning\n",
    "Now we need to tidy up the rotated shoreline and also make the shore/shelf gradients smoother for CEM to calculate the shore/self slopes.\n",
    "The former is done by simply assigning all grid cells below the shorelines edge a \"shoreline\" grid value. The smoothing is done by a 2d convolution of the shoreface."
   ]
  },
  {
   "cell_type": "code",
   "execution_count": null,
   "metadata": {},
   "outputs": [],
   "source": [
    "## defining the set_domain function so that we can easily re-initialize our domain after model runs\n",
    "\n",
    "def set_domain(pad=20):\n",
    "    z_elev = elev.T # transpose of the elevations for CEM/plotting purposes\n",
    "\n",
    "    z_elev[z_elev==-5] = -1 ## -5 is the \"shoreline\" flag from above.\n",
    "    domain = -1*z_elev ## we want the domain to have values above sea-level to be >0 and below <0\n",
    "\n",
    "\n",
    "    ##Trial and error steps:\n",
    "\n",
    "    ## smooth the depths by averaging each cell in the domain by NxN of its neighbors\n",
    "    neighs = np.ones([10,10])\n",
    "    total = (10**2)\n",
    "    domain = signal.convolve2d(domain,neighs/total,mode='same',boundary='symm')\n",
    "\n",
    "    domain[z_elev==-1] = 1 ## our shoreline got smoothed out too. This fixes that and makes sure our land is at 1m above sea level\n",
    "\n",
    "\n",
    "    N,M = domain.shape\n",
    "    domnew = np.ones([N+pad,M]) ##here we add a \"pad\" to the bottom of the domain\n",
    "    domnew[-N:,:] = domain # if this is undesirable, set \"pad=0\"\n",
    "    domain = domnew\n",
    "    \n",
    "    return domain\n",
    "\n",
    "domain= set_domain(pad=20)"
   ]
  },
  {
   "cell_type": "markdown",
   "metadata": {},
   "source": [
    "Let's visualize this updated coastline data with the function `plot_coast`. This will confirm that we have effectively translated the spit into model space."
   ]
  },
  {
   "cell_type": "code",
   "execution_count": null,
   "metadata": {},
   "outputs": [],
   "source": [
    "fun.plot_coast(domain,dx,dy)"
   ]
  },
  {
   "cell_type": "markdown",
   "metadata": {},
   "source": [
    "Looks pretty similar! Notice how there is now a smooth gradient shoreface."
   ]
  },
  {
   "cell_type": "markdown",
   "metadata": {},
   "source": [
    "### 1.4 Shoreface/Shelf Slope\n",
    "Our last step in data preparation is to find the average shoreface and shelf slope--two CEM parameters. As we were not able to determine this information from our CoastSat image, we need to derive these values ourselves. We will do this by appoximating a straight transect that extends from the beach off shore then using the equation from the last notebook to approximate the shelf slope:"
   ]
  },
  {
   "cell_type": "code",
   "execution_count": null,
   "metadata": {},
   "outputs": [],
   "source": [
    "def find_shelf_slope(pad=20): #same pad as above\n",
    "    h = lambda x: 0.1*x**(2/3) ## depth equation\n",
    "    profile = np.copy(domain)[:,0] ## find a nice straight column in the domain...\n",
    "    ## whose depth gradient is towards the top of the domain\n",
    "    x = np.arange(len(profile))*dx ## the off shore coords in [meters]\n",
    "    ## find the shoreline edge and approximate the gradient using the equation from the previous notebook:\n",
    "    x0 = x[pad] ## edge of beach--defined by the pad from previous step if that was used\n",
    "    xf = x[-1] ## open ocean depth\n",
    "    return (h(xf)-h(x0))/(xf-x0) \n",
    "\n",
    "\n",
    "shelf_slope = find_shelf_slope() ##This should be on the order of 0.001. If not you may need to find this manually\n",
    "# estimation of shoreface parameters:\n",
    "shoreface_slope = 4*shelf_slope ## the shoreface is steeper than the shelf\n",
    "shoreface_depth = 10 # depth meters"
   ]
  },
  {
   "cell_type": "markdown",
   "metadata": {},
   "source": [
    "Now that we have processed the shoreline, we can initialize our models."
   ]
  },
  {
   "cell_type": "markdown",
   "metadata": {},
   "source": [
    "### 2. Model Setup\n",
    "We are using the [Coastal Evolution Model (CEM)](https://csdms.colorado.edu/wiki/Model_help:CEM) and the [WAVES](https://csdms.colorado.edu/wiki/Model_help:Waves) models. The CEM simulates morphodynamic evolution of coastlines under varying wave climates. WAVES is the model that calculates the input wave energetics used in CEM as a function of wave period (T), deep water wave height (H<sub>0</sub>), and wave angle criteria. Run the help() commands on each function and read through their documentation."
   ]
  },
  {
   "cell_type": "code",
   "execution_count": null,
   "metadata": {},
   "outputs": [],
   "source": [
    "cem = Cem()\n",
    "waves = Waves()"
   ]
  },
  {
   "cell_type": "code",
   "execution_count": null,
   "metadata": {},
   "outputs": [],
   "source": [
    "## uncomment the lines below to see the model outlines\n",
    "\n",
    "# help(cem)\n",
    "# help(waves)"
   ]
  },
  {
   "cell_type": "markdown",
   "metadata": {},
   "source": [
    "Check out the documentation online to get additional info on the parameters needed for each model:\n",
    "\n",
    "[WAVES Documentation](https://csdms.colorado.edu/wiki/Model_help:Waves)\n",
    "\n",
    "[CEM Documentation](https://csdms.colorado.edu/wiki/Model_help:CEM)"
   ]
  },
  {
   "cell_type": "markdown",
   "metadata": {},
   "source": [
    "### 3.1. Initialize Models with Input Criteria\n",
    "Here we are creating a _dictionary_ to assign value to our various input parameters for both the CEM and WAVES models. Defining CEM's parameter values this way facilitates transparency and easy manipulation of the variables. This dictionary will then be passed into the **initialize_models** function which sets up our models.\n",
    "\n",
    "For our wave parameters, we are using the data from the \"Extract Wave Data\" section of the CoastSat notebook. Please see that file for more information on the data extraction.\n",
    "\n",
    "*To convert wave direction to the **A** parameter, we use the following formula:*\n",
    "\n",
    "$$\\frac{|Dir-270|}{180}$$\n",
    "\n",
    "*where **Dir** represents wave direction.*\n"
   ]
  },
  {
   "cell_type": "code",
   "execution_count": null,
   "metadata": {},
   "outputs": [],
   "source": [
    "#convert wave direction to asymmetry term\n",
    "Ap = 1-float(abs(Dir-270)/180)\n",
    "\n",
    "## We are using 1-Ap because the waves in our domain are coming from the left."
   ]
  },
  {
   "cell_type": "code",
   "execution_count": null,
   "metadata": {},
   "outputs": [],
   "source": [
    "params = {\n",
    "    \n",
    "    ## CEM \n",
    "    'grid_spacing'    : dx,                #meters\n",
    "    'shelf_slope'     : shelf_slope,\n",
    "    'shoreface_depth' : shoreface_depth,   #meters\n",
    "    'shoreface_slope' : shoreface_slope,\n",
    "    'model__time_step': 1,               #days\n",
    "    \n",
    "    ##WAVES\n",
    "    'wave_height' : Hs, #meters\n",
    "    'wave_period' : Tp, #seconds\n",
    "    'wave_angle_highness': 0.65, #important param\n",
    "    'wave_angle_asymmetry': Ap\n",
    "    \n",
    "}"
   ]
  },
  {
   "cell_type": "markdown",
   "metadata": {},
   "source": [
    "In the CEM, cells can either be water or land. Land cells will have a uniform height that is greater than the water depth. They will only be affected by the coastal processes of alongshore sediment transport and wave action. Inland cells will not be affected. Water cells will have a set bathymetry that will respond to sediment supply and wave action. The model calculates the bathymetry through the inner shelf slope (`shelf_slope`), depth at which the shoreface ends (``shoreface_depth``), and the shoreface slope (``shoreface_slope``). We can take a look at an example [here](Example_run___SPITS.ipynb) showing how the CEM runs without an input shoreline.\n",
    "\n",
    "We initialize the model with the `initialize_models` function."
   ]
  },
  {
   "cell_type": "code",
   "execution_count": null,
   "metadata": {},
   "outputs": [],
   "source": [
    "fun.initialize_models(params,domain,cem,waves)"
   ]
  },
  {
   "cell_type": "markdown",
   "metadata": {},
   "source": [
    "Let's look at our input coastline again with the **plot_coast** function as our baseline. But now we use the BMI commant below to see if the CEM took our input and didnt do anything too crazy when it recalculates the slopes and depths."
   ]
  },
  {
   "cell_type": "markdown",
   "metadata": {},
   "source": [
    "We want to look at the input variable `land_surface__elevation` but this value is transformed into a 1d array in the model so we want to reshape it into the 2d array like our initial domain:"
   ]
  },
  {
   "cell_type": "code",
   "execution_count": null,
   "metadata": {},
   "outputs": [],
   "source": [
    "land = cem.get_value('land_surface__elevation')\n",
    "land = land.reshape(  domain.shape  )\n",
    "\n",
    "fun.plot_coast(land,dx,dy)"
   ]
  },
  {
   "cell_type": "markdown",
   "metadata": {},
   "source": [
    "LOOKS GOOD! If you get any weirdness here go back up and smooth (convolve) the domain a bit more and try again. (I.e. average over more neighbors)"
   ]
  },
  {
   "cell_type": "markdown",
   "metadata": {},
   "source": [
    "# RUN THE MODEL!\n",
    "Here comes the fun part. Run the model using our pre-written `run_model_loop function`.\n",
    "The `run_model_loop function` will run the CEM and can display an animation of the evolving shoreline. The first input expresses the model run time (in years). The function displays an animation by default but you can set `animate=False` to decrease model computation time.\n",
    "\n"
   ]
  },
  {
   "cell_type": "code",
   "execution_count": null,
   "metadata": {},
   "outputs": [],
   "source": [
    "T = 20 #years\n",
    "fun.run_model_loop(T,domain,cem,waves,update_ani_years=1/2)"
   ]
  },
  {
   "cell_type": "markdown",
   "metadata": {},
   "source": [
    "Congratulations! We just ran the CEM on a real coastline input. Note that the simulation is somewhat unrealistic in that it does not take into account the resistance that humans/communities impose on shoreline change. However, if the shoreline we just simulated were completely unpopulated then we may well see such drastic change in real life--provided we used the correct input parameters.\n",
    "\n",
    "\n",
    "\n",
    "<img src=\"imgs/Presque_Isle.png\" alt=\"Presque Ilse State Park\" width=\"500\"/>\n",
    "\n",
    "Models rarely fully replicate all changes that happen in a real system due to various assumptions and important forcings neglected (i.e., storm events, changes in wave climate). Nevertheless, CEM does a pretty good job at simulating coastline change on a real spit."
   ]
  },
  {
   "cell_type": "markdown",
   "metadata": {
    "tags": []
   },
   "source": [
    "### Now let's re-run the CEM with different parameters!\n",
    "We can vary different input values to the CEM to determine how our shoreline is predicted to evolve through time. As a reminder, here's a list of the CEM input parameters:\n",
    "\n",
    "<li>grid_spacing: set by out input shoreline files - DO NOT ALTER UNLESS YOU ARE PASSING A NEW PROCESSED SHORELINE FILE THROUGH</li>\n",
    "    <li>shelf_slope: slope of the inner shelf</li>\n",
    "    <li>shoreface_depth: depth of the shoreface - see section 1.4</li>\n",
    "    <li>shoreface_slope: slope of the shoreface - see section 1.4</li>\n",
    "    <li>model__time_step: time in days between model calculations</li>\n",
    "    <li>sea_surface_water_wave__height: deep water wave height (m)</li>\n",
    "    <li>sea_surface_water_wave__period: wave period (s)</li>\n",
    "    <li>sea_shoreline_wave~incoming~deepwater__ashton_et_al_approach_angle_highness_parameter: U, proportion of high-angle waves see WAVES documentation in section 2 </li>\n",
    "    <li>sea_shoreline_wave~incoming~deepwater__ashton_et_al_approach_angle_asymmetry_parameter: A, proportion of high-angle waves see WAVES documentation in section 2 & converting from wave direction to A in section 3.1</li>"
   ]
  },
  {
   "cell_type": "markdown",
   "metadata": {
    "tags": []
   },
   "source": [
    "### Assignment #1 - The Shoreface\n",
    "\n",
    "While not as dynamic as sandy shorelines, the shoreface is an important offshore transition region existing in between the surf zone and inner shelf that modulates sediment dynamics on the shoreline. In this first exercise, we will see how changing our shoreface geomorphology alters the evolution of our coastline through time.\n",
    "\n",
    "To update specific parameters, we can overwrite their existing values in the `param` dictionary. Let's begin by altering our shoreface parameters:"
   ]
  },
  {
   "cell_type": "code",
   "execution_count": null,
   "metadata": {
    "tags": []
   },
   "outputs": [],
   "source": [
    "# insert your values below\n",
    "params['shoreface_depth'] = 20 # recommended range: 10-20\n",
    "params['shoreface_slope'] = 3*shelf_slope # recommended range: 3-10*inner shelf slope"
   ]
  },
  {
   "cell_type": "markdown",
   "metadata": {},
   "source": [
    "Since we have established new input parameters, we have to re-initialize the CEM using the `initialize_model` function."
   ]
  },
  {
   "cell_type": "code",
   "execution_count": null,
   "metadata": {
    "tags": []
   },
   "outputs": [],
   "source": [
    "domain = set_domain()\n",
    "fun.initialize_models(params,domain,cem,waves)"
   ]
  },
  {
   "cell_type": "markdown",
   "metadata": {},
   "source": [
    "Visualize our intial coastline again to see how our input parameters have changed the shoreface:"
   ]
  },
  {
   "cell_type": "code",
   "execution_count": null,
   "metadata": {},
   "outputs": [],
   "source": [
    "land = cem.get_value('land_surface__elevation')\n",
    "land = land.reshape(  domain.shape  )\n",
    "\n",
    "fun.plot_coast(land,dx,dy)"
   ]
  },
  {
   "cell_type": "markdown",
   "metadata": {
    "tags": []
   },
   "source": [
    "And now run the CEM again! *Note, you may need to run the model without the animation in order for the kernel to not be disrupted. Both options are inlucded in the cell block below.*"
   ]
  },
  {
   "cell_type": "code",
   "execution_count": null,
   "metadata": {
    "tags": []
   },
   "outputs": [],
   "source": [
    "T = 20 # model duration (years)\n",
    "\n",
    "# with animation\n",
    "#fun.run_model_loop(T,domain,cem,waves,update_ani_years=1/2)\n",
    "\n",
    "# without animation\n",
    "fun.run_model_loop(T,domain,cem,waves,animate=False)\n",
    "land = cem.get_value('land_surface__elevation')\n",
    "land = land.reshape(  domain.shape  )\n",
    "fun.plot_coast(land,dx,dy)"
   ]
  },
  {
   "cell_type": "markdown",
   "metadata": {
    "tags": []
   },
   "source": [
    "Go back and modify the shoreface input parameters, increasing and/or decreasing your depth and slope values. After running the model a couple times, please answer the following:\n",
    "\n",
    "*1. How does altering the shoreface **depth** affect the final geometry of your shoreline?*"
   ]
  },
  {
   "cell_type": "markdown",
   "metadata": {},
   "source": []
  },
  {
   "cell_type": "markdown",
   "metadata": {
    "tags": []
   },
   "source": [
    "*2. How does altering the shoreface **slope** affect the final geometry of your shoreline?*"
   ]
  },
  {
   "cell_type": "markdown",
   "metadata": {},
   "source": []
  },
  {
   "cell_type": "markdown",
   "metadata": {},
   "source": [
    "### Assignment #2 - Varying Wave Climates\n",
    "\n",
    "Just as our shoreline is susceptible to changes in shoreface morphology, our coastline will likely experience a range of waves through time that will alter its shape and size. Storm events often bring longer, higher energy waves that can drastically alter shorelines in a short amount of time. Waves that crash into the coast are also often equal in height and period, and are typically modeled as groups of waves through spectral analysis. In this exercise, we will examine how variations in wave climate will alter our shoreline morphology through time.\n",
    "\n",
    "There are 4 main parameters we can alter in this exercise: \n",
    "<li> Wave Period (T)</li>\n",
    "<li> Wave Height (H)</li>\n",
    "<li> Wave Asymmetry Ratio (A): see section 3.1 </li>\n",
    "<li> Wave Angle Proportion (U): ratio of high angle to low angle waves</li>\n",
    "<br>\n",
    "\n",
    "You can find more information about these specific waves terms in the [WAVES Model Documentation](https://csdms.colorado.edu/wiki/Model_help:Waves). Change as many or as few of these parameters below by indexing into our `params` dictionary:"
   ]
  },
  {
   "cell_type": "code",
   "execution_count": null,
   "metadata": {},
   "outputs": [],
   "source": [
    "# insert your values below\n",
    "\n",
    "# wave height\n",
    "params['sea_surface_water_wave__height'] = 3 # recommended range: 0.5-5\n",
    "# wave period\n",
    "params['sea_surface_water_wave__period'] = 6 # recommended range: 2-12\n",
    "# wave asymmetry\n",
    "params['sea_shoreline_wave~incoming~deepwater__ashton_et_al_approach_angle_asymmetry_parameter'] = 0.5 # range: 0-1\n",
    "# wave angle proportion\n",
    "params['sea_shoreline_wave~incoming~deepwater__ashton_et_al_approach_angle_highness_parameter'] = 0.5 # range: 0-1"
   ]
  },
  {
   "cell_type": "markdown",
   "metadata": {},
   "source": [
    "As in exercise 1, re-initalize the CEM and visualize our starting coastline:"
   ]
  },
  {
   "cell_type": "code",
   "execution_count": null,
   "metadata": {},
   "outputs": [],
   "source": [
    "# initialize\n",
    "domain = set_domain()\n",
    "fun.initialize_models(params,domain,cem,waves)\n",
    "\n",
    "# visualize\n",
    "land = cem.get_value('land_surface__elevation')\n",
    "land = land.reshape(  domain.shape  )\n",
    "\n",
    "fun.plot_coast(land,dx,dy)"
   ]
  },
  {
   "cell_type": "markdown",
   "metadata": {},
   "source": [
    "Run the CEM with our new wave climate inputs, changing the model duration run parameter:"
   ]
  },
  {
   "cell_type": "code",
   "execution_count": null,
   "metadata": {},
   "outputs": [],
   "source": [
    "T = 20 # model duration (years)\n",
    "fun.run_model_loop(T,domain,cem,waves,update_ani_years=1/2)"
   ]
  },
  {
   "cell_type": "markdown",
   "metadata": {},
   "source": [
    "Try running through this workflow again, modifying the different wave climate parameters. Once you have done this a couple times, please answer the following:"
   ]
  },
  {
   "cell_type": "markdown",
   "metadata": {},
   "source": [
    "*1. How do changes in **wave period** affect the shoreline evolution?*"
   ]
  },
  {
   "cell_type": "markdown",
   "metadata": {},
   "source": []
  },
  {
   "cell_type": "markdown",
   "metadata": {},
   "source": [
    "*2. How do changes in **wave height** affect the shoreline evolution?*"
   ]
  },
  {
   "cell_type": "markdown",
   "metadata": {},
   "source": []
  },
  {
   "cell_type": "markdown",
   "metadata": {},
   "source": [
    "*3. How do changes in **wave asymmetry** affect your shoreline shape? What impacts do changes in wave direction have on the shoreline morphology?*"
   ]
  },
  {
   "cell_type": "markdown",
   "metadata": {},
   "source": []
  },
  {
   "cell_type": "markdown",
   "metadata": {},
   "source": [
    "*4. How do changes in the **wave angle proportion term** affect the shoreline morphology? Do high angle waves tend to elongate, or flatten the shoreline morphology? What about low angle waves?*"
   ]
  },
  {
   "cell_type": "markdown",
   "metadata": {},
   "source": []
  },
  {
   "cell_type": "markdown",
   "metadata": {},
   "source": [
    "### Assignment #3 - Comparing the CEM to real world Change\n",
    "\n",
    "As we've likely discovered through our simulations, models aren't perfect predictors of how things will change and evolve over time. While the CEM is a powerful tool for simulating shoreline change, it does not include all mechanisms and forcings found in the real world in it's model construction.\n",
    "\n",
    "*1. What are some assumptions the CEM makes in simulating shoreline change? Can you think of any natural or anthropogenic processes that would affect our coastline not considered by the CEM?*"
   ]
  },
  {
   "cell_type": "markdown",
   "metadata": {},
   "source": []
  },
  {
   "cell_type": "markdown",
   "metadata": {},
   "source": [
    "Throught these portion of the lab we have been simulating different shoreline change scenarios for our selected coastal region. We will now compare these model runs to a timelapse of Google Earth satellite images of our same shoreline. [Click here](https://earthengine.google.com/timelapse/) to access the GE timelapse portal, and locate your study site either through Lat-Lon coordinates, or through the interactive map interface.\n",
    "\n",
    "Once you have compared the model runs to the timelapse imagery, please answer the following:"
   ]
  },
  {
   "cell_type": "markdown",
   "metadata": {},
   "source": [
    "*2. Compare and contrast the CEM model outputs to the satellite imagery. What's similar in the coastline shape? What's different?*"
   ]
  },
  {
   "cell_type": "markdown",
   "metadata": {},
   "source": []
  },
  {
   "cell_type": "markdown",
   "metadata": {},
   "source": [
    "*3. Think about what might be creating these differences between model simulations and the real world. What scenarios or processes from your answer to #1 might be affecting this region not captured by the CEM?*"
   ]
  },
  {
   "cell_type": "markdown",
   "metadata": {},
   "source": []
  },
  {
   "cell_type": "markdown",
   "metadata": {},
   "source": [
    "*4. Speculate on whether natural or anthropogenic processes are having more of an impact on this shoreline. How does climate change or sea level rise affect this region?*"
   ]
  },
  {
   "cell_type": "markdown",
   "metadata": {},
   "source": []
  },
  {
   "cell_type": "markdown",
   "metadata": {},
   "source": [
    "## Congratulations! You have completed the Simulating Shoreline Change using Coupled Coastsat and Coastline Evolution Model (CEM) CSDMS EKT Lab.\n",
    "\n",
    "### [Return to Section 1: Extract Shoreline & Wave Data](extract_shore_waves.ipynb)\n",
    "\n",
    "[Return to Lab Index](coastal_index.ipynb)"
   ]
  }
 ],
 "metadata": {
  "kernelspec": {
   "display_name": "Python 3 (ipykernel)",
   "language": "python",
   "name": "python3"
  },
  "language_info": {
   "codemirror_mode": {
    "name": "ipython",
    "version": 3
   },
   "file_extension": ".py",
   "mimetype": "text/x-python",
   "name": "python",
   "nbconvert_exporter": "python",
   "pygments_lexer": "ipython3",
   "version": "3.8.10"
  }
 },
 "nbformat": 4,
 "nbformat_minor": 4
}
